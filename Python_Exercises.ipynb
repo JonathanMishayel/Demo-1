{
 "cells": [
  {
   "cell_type": "markdown",
   "id": "0fd7675b-1ead-4552-89a4-676fa41a7b19",
   "metadata": {},
   "source": [
    "### Exercise 01"
   ]
  },
  {
   "cell_type": "markdown",
   "id": "35d73dc8-8daa-42b8-862e-9433d165c8d5",
   "metadata": {},
   "source": [
    "#### 01)"
   ]
  },
  {
   "cell_type": "code",
   "execution_count": 2,
   "id": "38b1d829-2720-4200-ad78-bbb293f4d745",
   "metadata": {},
   "outputs": [],
   "source": [
    "def sleep_in(weekday, vacation):\n",
    "    if weekday == False or vacation == True:\n",
    "        return True\n",
    "    else:\n",
    "        return False"
   ]
  },
  {
   "cell_type": "code",
   "execution_count": 4,
   "id": "0e7c67ac-a44e-49f8-a4d6-daa1004cc1f4",
   "metadata": {},
   "outputs": [
    {
     "name": "stdout",
     "output_type": "stream",
     "text": [
      "True\n"
     ]
    }
   ],
   "source": [
    "print(sleep_in(False, False))  # Output: True (weekend, not vacation)\n"
   ]
  },
  {
   "cell_type": "code",
   "execution_count": 5,
   "id": "d19a25ee-7fc2-43da-be20-f7cb85955335",
   "metadata": {},
   "outputs": [
    {
     "name": "stdout",
     "output_type": "stream",
     "text": [
      "False\n"
     ]
    }
   ],
   "source": [
    "print(sleep_in(True, False))   # Output: False (weekday, not vacation)\n"
   ]
  },
  {
   "cell_type": "code",
   "execution_count": 6,
   "id": "b1cbc777-e248-4916-b213-7b3e29a8369a",
   "metadata": {},
   "outputs": [
    {
     "name": "stdout",
     "output_type": "stream",
     "text": [
      "True\n"
     ]
    }
   ],
   "source": [
    "print(sleep_in(False, True))   # Output: True (weekend, on vacation)\n"
   ]
  },
  {
   "cell_type": "code",
   "execution_count": 7,
   "id": "dd3542af-2757-4315-ac9b-fb28fb2cdd64",
   "metadata": {},
   "outputs": [
    {
     "name": "stdout",
     "output_type": "stream",
     "text": [
      "True\n"
     ]
    }
   ],
   "source": [
    "print(sleep_in(True, True))    # Output: True (weekday, but on vacation)"
   ]
  },
  {
   "cell_type": "markdown",
   "id": "1f1aa8ae-3578-43bb-9b3e-ca8f51598e8f",
   "metadata": {},
   "source": [
    "#### 02)"
   ]
  },
  {
   "cell_type": "code",
   "execution_count": 8,
   "id": "d2fa5b21-a95e-4b63-bf72-73a6020bfd8e",
   "metadata": {},
   "outputs": [],
   "source": [
    "def sleep_in(weekday, vacation):\n",
    "    if not weekday or vacation:\n",
    "        return True\n",
    "    else:\n",
    "        return False"
   ]
  },
  {
   "cell_type": "code",
   "execution_count": 10,
   "id": "0b4ad4da-f949-433f-9116-cc3f5bd6dc63",
   "metadata": {},
   "outputs": [
    {
     "name": "stdout",
     "output_type": "stream",
     "text": [
      "True\n"
     ]
    }
   ],
   "source": [
    "print(sleep_in(True, True)) # Output: True (weekday, but on vacation)"
   ]
  },
  {
   "cell_type": "markdown",
   "id": "dac7a94e-8d82-41d8-afb5-0396b63737a2",
   "metadata": {},
   "source": [
    "### Exercise 02"
   ]
  },
  {
   "cell_type": "code",
   "execution_count": 11,
   "id": "af235b8c-ce27-43f9-9f78-2c8d49006105",
   "metadata": {},
   "outputs": [],
   "source": [
    "s = 'Hi'"
   ]
  },
  {
   "cell_type": "code",
   "execution_count": 13,
   "id": "96d88e16-d856-4311-840b-f3be2d31e187",
   "metadata": {},
   "outputs": [
    {
     "name": "stdout",
     "output_type": "stream",
     "text": [
      "HiHi\n"
     ]
    }
   ],
   "source": [
    "print(s+s)\n"
   ]
  },
  {
   "cell_type": "code",
   "execution_count": 14,
   "id": "b672d02f-0ec7-4709-81e0-62968504f74e",
   "metadata": {},
   "outputs": [
    {
     "name": "stdout",
     "output_type": "stream",
     "text": [
      "HiHiHiHi\n"
     ]
    }
   ],
   "source": [
    "print(s*4)"
   ]
  },
  {
   "cell_type": "code",
   "execution_count": 19,
   "id": "87784794-ef3f-4c07-abde-74b9dab01ce9",
   "metadata": {},
   "outputs": [],
   "source": [
    "# this function can print muliple words for any given word and iteration \n",
    "def string_times(str, n):\n",
    "    return str*n\n"
   ]
  },
  {
   "cell_type": "code",
   "execution_count": 16,
   "id": "69cc4688-7a73-4ead-ba5c-bffae88d8051",
   "metadata": {},
   "outputs": [
    {
     "name": "stdout",
     "output_type": "stream",
     "text": [
      "RetreatRetreat\n"
     ]
    }
   ],
   "source": [
    "print(string_times(\"Retreat\", 2))"
   ]
  },
  {
   "cell_type": "code",
   "execution_count": 22,
   "id": "1a284a15-57fd-4b81-8c74-1b030b223ff1",
   "metadata": {},
   "outputs": [],
   "source": [
    "#same funtion above with space between words by .join function\n",
    "\n",
    "def string_times(str, n):\n",
    "    return ' '.join([str] * n)"
   ]
  },
  {
   "cell_type": "code",
   "execution_count": 23,
   "id": "5786b90b-a278-4640-9e31-aafb55b0ac99",
   "metadata": {},
   "outputs": [
    {
     "name": "stdout",
     "output_type": "stream",
     "text": [
      "Retreat Retreat\n"
     ]
    }
   ],
   "source": [
    "print(string_times('Retreat', 2))"
   ]
  },
  {
   "cell_type": "markdown",
   "id": "0ee02451-08e3-45ec-b2f3-fcceee1d98b7",
   "metadata": {},
   "source": [
    "### Exercise 03"
   ]
  },
  {
   "cell_type": "code",
   "execution_count": 50,
   "id": "57ea910f-2e83-4305-a366-f71c398d59fa",
   "metadata": {},
   "outputs": [],
   "source": [
    "# retun the greeting for given name \n",
    "# we use concatenating to bring together multiple strings using +\n",
    "def hello_name(name):\n",
    "    return 'Hello'+' '+ name +\"!\""
   ]
  },
  {
   "cell_type": "code",
   "execution_count": 51,
   "id": "f745504c-f907-41c3-9ead-8351ea393aa3",
   "metadata": {},
   "outputs": [
    {
     "name": "stdout",
     "output_type": "stream",
     "text": [
      "Hello Bob!\n"
     ]
    }
   ],
   "source": [
    "print(hello_name(\"Bob\"))"
   ]
  },
  {
   "cell_type": "code",
   "execution_count": 52,
   "id": "f295bed3-879e-4584-9e2c-97ff37c1894a",
   "metadata": {},
   "outputs": [
    {
     "name": "stdout",
     "output_type": "stream",
     "text": [
      "Hello Jonathan!\n"
     ]
    }
   ],
   "source": [
    "print(hello_name(\"Jonathan\"))"
   ]
  },
  {
   "cell_type": "code",
   "execution_count": 53,
   "id": "b24f906e-fcfc-4413-a1f9-842cf54be0f8",
   "metadata": {},
   "outputs": [],
   "source": [
    "def Farewell_name(name):\n",
    "    return 'Farewell' + ' '+ name + \"!\""
   ]
  },
  {
   "cell_type": "code",
   "execution_count": 54,
   "id": "f33d9f43-2791-4cc0-9517-a690a45a0bd3",
   "metadata": {},
   "outputs": [
    {
     "name": "stdout",
     "output_type": "stream",
     "text": [
      "Farewell Brother!\n"
     ]
    }
   ],
   "source": [
    "print(Farewell_name(\"Brother\"))"
   ]
  },
  {
   "cell_type": "markdown",
   "id": "305d11d6-21cc-4e22-a666-5e8dc9a536a6",
   "metadata": {},
   "source": [
    "### Exercise 04"
   ]
  },
  {
   "cell_type": "code",
   "execution_count": 64,
   "id": "9826409f-9a45-462a-bf4a-650c22864c2b",
   "metadata": {},
   "outputs": [],
   "source": [
    "# to find 6 in the list in end or beginning by boolean output\n",
    "\n",
    "def sixinlist(given_list):\n",
    "    return 6 in given_list\n",
    "    "
   ]
  },
  {
   "cell_type": "code",
   "execution_count": 66,
   "id": "9594831e-5f28-45de-887f-8604caf3f6ea",
   "metadata": {},
   "outputs": [
    {
     "name": "stdout",
     "output_type": "stream",
     "text": [
      "False\n"
     ]
    }
   ],
   "source": [
    "given_list = [1,2,5,4,9,11]\n",
    "print(sixinlist(given_list))"
   ]
  },
  {
   "cell_type": "code",
   "execution_count": 67,
   "id": "86ade928-9a7d-4ed4-bd2b-24fe56050723",
   "metadata": {},
   "outputs": [
    {
     "name": "stdout",
     "output_type": "stream",
     "text": [
      "True\n"
     ]
    }
   ],
   "source": [
    "given_list = [1,2,5,4,6,11]\n",
    "print(sixinlist(given_list))"
   ]
  },
  {
   "cell_type": "code",
   "execution_count": 72,
   "id": "cb0d6c3a-b8d8-4203-b5ff-9f94b496d7da",
   "metadata": {},
   "outputs": [],
   "source": [
    "# to find the 6 in last or beginning of the list\n",
    "\n",
    "def firstorlast6(nums):\n",
    "    if nums[0] == 6 or nums[-1] == 6:\n",
    "        return True\n",
    "    else:\n",
    "        return False\n",
    "\n",
    "# [0] = first index\n",
    "# [-1] = last index"
   ]
  },
  {
   "cell_type": "code",
   "execution_count": 71,
   "id": "581a4562-8f7e-489d-a537-49f3c1fec620",
   "metadata": {},
   "outputs": [
    {
     "name": "stdout",
     "output_type": "stream",
     "text": [
      "True\n"
     ]
    }
   ],
   "source": [
    "nums = [1,2,6]\n",
    "print(firstorlast6(nums))"
   ]
  },
  {
   "cell_type": "markdown",
   "id": "867153b5-ef27-402e-87f8-dd9a9c2e71d1",
   "metadata": {},
   "source": [
    "### Exercise 05"
   ]
  },
  {
   "cell_type": "code",
   "execution_count": 74,
   "id": "64707c5b-b738-4d5f-913a-1a22fc3c49ea",
   "metadata": {},
   "outputs": [],
   "source": [
    "# To make string as double characters by creating function called double_char\n",
    "\n",
    "# double_char(\"The\") --- 'TThhee'\n",
    "# double_char(\"AAbb\") --- 'AAAAbbbb'"
   ]
  },
  {
   "cell_type": "code",
   "execution_count": 76,
   "id": "e191653e-8296-4f0f-961f-db00a5f827ad",
   "metadata": {},
   "outputs": [],
   "source": [
    "def double_char(str):\n",
    "    to_return = ''\n",
    "    for c in str:\n",
    "        to_return += c*2\n",
    "    return to_return"
   ]
  },
  {
   "cell_type": "code",
   "execution_count": 77,
   "id": "81688ceb-1297-4fd2-8216-7ccfd5ba9b07",
   "metadata": {},
   "outputs": [
    {
     "name": "stdout",
     "output_type": "stream",
     "text": [
      "AABBCC\n"
     ]
    }
   ],
   "source": [
    "print(double_char(\"ABC\"))"
   ]
  },
  {
   "cell_type": "code",
   "execution_count": 81,
   "id": "ea2b913f-ce28-401b-8081-16ba1c9194ff",
   "metadata": {},
   "outputs": [],
   "source": [
    "# Another method to do it\n",
    "given = 'ABC'\n",
    "\n",
    "to_return = ''\n",
    "for c in given:\n",
    "    to_return += c*2"
   ]
  },
  {
   "cell_type": "code",
   "execution_count": 82,
   "id": "fad7641c-948f-4560-bc87-88c1cd17499b",
   "metadata": {},
   "outputs": [
    {
     "name": "stdout",
     "output_type": "stream",
     "text": [
      "AABBCC\n"
     ]
    }
   ],
   "source": [
    "print(to_return)"
   ]
  },
  {
   "cell_type": "markdown",
   "id": "fb14d839-f437-4d91-b7de-f22b6684bee0",
   "metadata": {},
   "source": [
    "### Exercise 06"
   ]
  },
  {
   "cell_type": "code",
   "execution_count": 83,
   "id": "3de08968-91a8-4a56-b413-071a53c85a1a",
   "metadata": {},
   "outputs": [],
   "source": [
    "# Return the number of even ints in the given array\n",
    "\n",
    "#count_evens([2,1,2,3,4]) ---- 3\n",
    "#count_evens([1,3,5]) ---- 0"
   ]
  },
  {
   "cell_type": "code",
   "execution_count": 125,
   "id": "02926d63-2042-4367-974f-36018056913e",
   "metadata": {},
   "outputs": [
    {
     "name": "stdout",
     "output_type": "stream",
     "text": [
      "12\n"
     ]
    }
   ],
   "source": [
    "# Using for loop (Sum)\n",
    "\n",
    "nums = [1, 2, 3, 4, 5, 6] \n",
    "sum = 0                  \n",
    "\n",
    "for x in nums:\n",
    "    if x % 2 == 0:          \n",
    "        sum += x          \n",
    "        \n",
    "print(sum)                "
   ]
  },
  {
   "cell_type": "code",
   "execution_count": 126,
   "id": "e1c8dee8-7ae3-413c-8434-d25f3d623bfe",
   "metadata": {},
   "outputs": [
    {
     "name": "stdout",
     "output_type": "stream",
     "text": [
      "3\n"
     ]
    }
   ],
   "source": [
    "# Using for loop (Count)\n",
    "\n",
    "nums = [1, 2, 3, 4, 5, 6] \n",
    "count = 0                   \n",
    "\n",
    "for x in nums:\n",
    "    if x % 2 == 0:\n",
    "        count += 1         \n",
    "\n",
    "print(count)               "
   ]
  },
  {
   "cell_type": "code",
   "execution_count": 121,
   "id": "9102539f-4030-4437-a7fe-cf98f4ef1dc2",
   "metadata": {},
   "outputs": [],
   "source": [
    "# Using Function\n",
    "\n",
    "def count_evens(nums):\n",
    "    count = 0\n",
    "    for x in nums:\n",
    "        if x % 2 == 0:\n",
    "            count += 1\n",
    "    return count"
   ]
  },
  {
   "cell_type": "code",
   "execution_count": 122,
   "id": "4864b9ba-92cc-4859-a369-6e1edde91465",
   "metadata": {},
   "outputs": [
    {
     "name": "stdout",
     "output_type": "stream",
     "text": [
      "2\n"
     ]
    }
   ],
   "source": [
    "nums = [1,5,4,8]\n",
    "print(count_evens(nums))"
   ]
  },
  {
   "cell_type": "code",
   "execution_count": 123,
   "id": "204de2c2-9392-4e25-9303-33e525d82dc3",
   "metadata": {},
   "outputs": [
    {
     "name": "stdout",
     "output_type": "stream",
     "text": [
      "1\n"
     ]
    }
   ],
   "source": [
    "print(count_evens([1,2,3]))"
   ]
  },
  {
   "cell_type": "code",
   "execution_count": 124,
   "id": "db53069d-4c1c-4a5d-8b26-6dde44b96aea",
   "metadata": {},
   "outputs": [
    {
     "name": "stdout",
     "output_type": "stream",
     "text": [
      "0\n"
     ]
    }
   ],
   "source": [
    "print(count_evens([1,3,5]))"
   ]
  },
  {
   "cell_type": "code",
   "execution_count": null,
   "id": "c65d5b5b-85d1-40f2-91d0-d77f25ffe985",
   "metadata": {},
   "outputs": [],
   "source": []
  },
  {
   "cell_type": "code",
   "execution_count": null,
   "id": "296c2a48-ba60-4d2d-90fe-f54802a50602",
   "metadata": {},
   "outputs": [],
   "source": []
  },
  {
   "cell_type": "code",
   "execution_count": null,
   "id": "df5a1bb6-a225-4ad6-a613-0375891f2351",
   "metadata": {},
   "outputs": [],
   "source": []
  },
  {
   "cell_type": "code",
   "execution_count": null,
   "id": "55b34a23-049a-4d9b-b842-a6526a515b2a",
   "metadata": {},
   "outputs": [],
   "source": []
  },
  {
   "cell_type": "code",
   "execution_count": null,
   "id": "39c6f0b5-b69b-43fc-b330-d0f905cce773",
   "metadata": {},
   "outputs": [],
   "source": []
  },
  {
   "cell_type": "code",
   "execution_count": null,
   "id": "56a9bfe1-af9a-47b0-855d-36276b2699a3",
   "metadata": {},
   "outputs": [],
   "source": []
  },
  {
   "cell_type": "code",
   "execution_count": null,
   "id": "7cc2d3a7-eecc-4ee5-81e3-86acc60a8d9e",
   "metadata": {},
   "outputs": [],
   "source": []
  },
  {
   "cell_type": "code",
   "execution_count": null,
   "id": "a6495648-b7de-415a-bd88-1879903daec4",
   "metadata": {},
   "outputs": [],
   "source": []
  },
  {
   "cell_type": "code",
   "execution_count": null,
   "id": "df2534a1-6ea3-4dfe-9391-1c2a7c4103a7",
   "metadata": {},
   "outputs": [],
   "source": []
  },
  {
   "cell_type": "code",
   "execution_count": null,
   "id": "ac42cd98-ef3e-4f4c-9420-b7e7acb41779",
   "metadata": {},
   "outputs": [],
   "source": []
  },
  {
   "cell_type": "code",
   "execution_count": null,
   "id": "64ff78d0-745a-4c28-86c5-6b647ad8f388",
   "metadata": {},
   "outputs": [],
   "source": []
  }
 ],
 "metadata": {
  "kernelspec": {
   "display_name": "Python 3 (ipykernel)",
   "language": "python",
   "name": "python3"
  },
  "language_info": {
   "codemirror_mode": {
    "name": "ipython",
    "version": 3
   },
   "file_extension": ".py",
   "mimetype": "text/x-python",
   "name": "python",
   "nbconvert_exporter": "python",
   "pygments_lexer": "ipython3",
   "version": "3.12.7"
  }
 },
 "nbformat": 4,
 "nbformat_minor": 5
}
